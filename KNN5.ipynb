{
 "cells": [
  {
   "cell_type": "markdown",
   "metadata": {
    "id": "0MRC0e0KhQ0S"
   },
   "source": [
    "# K-Nearest Neighbors (K-NN)"
   ]
  },
  {
   "cell_type": "markdown",
   "metadata": {
    "id": "LWd1UlMnhT2s"
   },
   "source": [
    "## Importing the libraries"
   ]
  },
  {
   "cell_type": "code",
   "execution_count": 1,
   "metadata": {
    "id": "ANBMTP0MRRYI"
   },
   "outputs": [],
   "source": [
    "import numpy as np\n",
    "import matplotlib.pyplot as plt\n",
    "import pandas as pd"
   ]
  },
  {
   "cell_type": "markdown",
   "metadata": {
    "id": "K1VMqkGvhc3-"
   },
   "source": [
    "## Importing the dataset"
   ]
  },
  {
   "cell_type": "code",
   "execution_count": 2,
   "metadata": {
    "id": "aPeCX47sRi8u"
   },
   "outputs": [],
   "source": [
    "\n",
    "# Read dataset to pandas dataframe\n",
    "dataset = pd.read_csv(\"https://raw.githubusercontent.com/starkcr7/data/main/health_dataset.csv\")"
   ]
  },
  {
   "cell_type": "markdown",
   "metadata": {
    "id": "-pAU2R6FgufM"
   },
   "source": [
    "## Data Analysis EDA"
   ]
  },
  {
   "cell_type": "code",
   "execution_count": 3,
   "metadata": {
    "colab": {
     "base_uri": "https://localhost:8080/"
    },
    "id": "niRa4nXPtt33",
    "outputId": "b177875e-f525-48f7-982e-340b6b57deef"
   },
   "outputs": [
    {
     "data": {
      "text/plain": [
       "(1000, 6)"
      ]
     },
     "execution_count": 3,
     "metadata": {},
     "output_type": "execute_result"
    }
   ],
   "source": [
    "dataset.shape"
   ]
  },
  {
   "cell_type": "code",
   "execution_count": 4,
   "metadata": {
    "colab": {
     "base_uri": "https://localhost:8080/",
     "height": 198
    },
    "id": "jn4-i3XggyK5",
    "outputId": "41de7279-b805-4cb8-a5f9-7f389b2fd229"
   },
   "outputs": [
    {
     "data": {
      "text/html": [
       "<div>\n",
       "<style scoped>\n",
       "    .dataframe tbody tr th:only-of-type {\n",
       "        vertical-align: middle;\n",
       "    }\n",
       "\n",
       "    .dataframe tbody tr th {\n",
       "        vertical-align: top;\n",
       "    }\n",
       "\n",
       "    .dataframe thead th {\n",
       "        text-align: right;\n",
       "    }\n",
       "</style>\n",
       "<table border=\"1\" class=\"dataframe\">\n",
       "  <thead>\n",
       "    <tr style=\"text-align: right;\">\n",
       "      <th></th>\n",
       "      <th>Blood_Pressure</th>\n",
       "      <th>Cholesterol</th>\n",
       "      <th>BMI</th>\n",
       "      <th>Glucose</th>\n",
       "      <th>Age</th>\n",
       "      <th>Class</th>\n",
       "    </tr>\n",
       "  </thead>\n",
       "  <tbody>\n",
       "    <tr>\n",
       "      <th>0</th>\n",
       "      <td>156.8</td>\n",
       "      <td>229.7</td>\n",
       "      <td>34.7</td>\n",
       "      <td>148.2</td>\n",
       "      <td>52</td>\n",
       "      <td>Risky</td>\n",
       "    </tr>\n",
       "    <tr>\n",
       "      <th>1</th>\n",
       "      <td>158.6</td>\n",
       "      <td>264.1</td>\n",
       "      <td>34.1</td>\n",
       "      <td>169.6</td>\n",
       "      <td>69</td>\n",
       "      <td>Risky</td>\n",
       "    </tr>\n",
       "    <tr>\n",
       "      <th>2</th>\n",
       "      <td>135.5</td>\n",
       "      <td>266.3</td>\n",
       "      <td>31.9</td>\n",
       "      <td>159.8</td>\n",
       "      <td>68</td>\n",
       "      <td>Risky</td>\n",
       "    </tr>\n",
       "    <tr>\n",
       "      <th>3</th>\n",
       "      <td>143.1</td>\n",
       "      <td>265.3</td>\n",
       "      <td>31.3</td>\n",
       "      <td>171.2</td>\n",
       "      <td>66</td>\n",
       "      <td>Risky</td>\n",
       "    </tr>\n",
       "    <tr>\n",
       "      <th>4</th>\n",
       "      <td>103.8</td>\n",
       "      <td>182.7</td>\n",
       "      <td>21.3</td>\n",
       "      <td>96.2</td>\n",
       "      <td>37</td>\n",
       "      <td>Healthy</td>\n",
       "    </tr>\n",
       "  </tbody>\n",
       "</table>\n",
       "</div>"
      ],
      "text/plain": [
       "   Blood_Pressure  Cholesterol   BMI  Glucose  Age    Class\n",
       "0           156.8        229.7  34.7    148.2   52    Risky\n",
       "1           158.6        264.1  34.1    169.6   69    Risky\n",
       "2           135.5        266.3  31.9    159.8   68    Risky\n",
       "3           143.1        265.3  31.3    171.2   66    Risky\n",
       "4           103.8        182.7  21.3     96.2   37  Healthy"
      ]
     },
     "execution_count": 4,
     "metadata": {},
     "output_type": "execute_result"
    }
   ],
   "source": [
    "dataset.head()"
   ]
  },
  {
   "cell_type": "code",
   "execution_count": 5,
   "metadata": {
    "colab": {
     "base_uri": "https://localhost:8080/"
    },
    "id": "uhaJRMqPg5gK",
    "outputId": "aec2f5fd-2d55-480e-ff41-183fefc97157"
   },
   "outputs": [
    {
     "name": "stdout",
     "output_type": "stream",
     "text": [
      "<class 'pandas.core.frame.DataFrame'>\n",
      "RangeIndex: 1000 entries, 0 to 999\n",
      "Data columns (total 6 columns):\n",
      " #   Column          Non-Null Count  Dtype  \n",
      "---  ------          --------------  -----  \n",
      " 0   Blood_Pressure  1000 non-null   float64\n",
      " 1   Cholesterol     1000 non-null   float64\n",
      " 2   BMI             1000 non-null   float64\n",
      " 3   Glucose         1000 non-null   float64\n",
      " 4   Age             1000 non-null   int64  \n",
      " 5   Class           1000 non-null   object \n",
      "dtypes: float64(4), int64(1), object(1)\n",
      "memory usage: 47.0+ KB\n"
     ]
    }
   ],
   "source": [
    "dataset.info()"
   ]
  },
  {
   "cell_type": "code",
   "execution_count": 6,
   "metadata": {
    "colab": {
     "base_uri": "https://localhost:8080/",
     "height": 288
    },
    "id": "2gtsiTZPuzaC",
    "outputId": "12408981-58e7-4df8-f187-358f3b1efa32"
   },
   "outputs": [
    {
     "data": {
      "text/html": [
       "<div>\n",
       "<style scoped>\n",
       "    .dataframe tbody tr th:only-of-type {\n",
       "        vertical-align: middle;\n",
       "    }\n",
       "\n",
       "    .dataframe tbody tr th {\n",
       "        vertical-align: top;\n",
       "    }\n",
       "\n",
       "    .dataframe thead th {\n",
       "        text-align: right;\n",
       "    }\n",
       "</style>\n",
       "<table border=\"1\" class=\"dataframe\">\n",
       "  <thead>\n",
       "    <tr style=\"text-align: right;\">\n",
       "      <th></th>\n",
       "      <th>Blood_Pressure</th>\n",
       "      <th>Cholesterol</th>\n",
       "      <th>BMI</th>\n",
       "      <th>Glucose</th>\n",
       "      <th>Age</th>\n",
       "    </tr>\n",
       "  </thead>\n",
       "  <tbody>\n",
       "    <tr>\n",
       "      <th>count</th>\n",
       "      <td>1000.000000</td>\n",
       "      <td>1000.000000</td>\n",
       "      <td>1000.000000</td>\n",
       "      <td>1000.000000</td>\n",
       "      <td>1000.000000</td>\n",
       "    </tr>\n",
       "    <tr>\n",
       "      <th>mean</th>\n",
       "      <td>132.233900</td>\n",
       "      <td>219.355300</td>\n",
       "      <td>27.540000</td>\n",
       "      <td>123.946600</td>\n",
       "      <td>48.914000</td>\n",
       "    </tr>\n",
       "    <tr>\n",
       "      <th>std</th>\n",
       "      <td>20.098221</td>\n",
       "      <td>44.079669</td>\n",
       "      <td>5.328226</td>\n",
       "      <td>36.006252</td>\n",
       "      <td>15.747781</td>\n",
       "    </tr>\n",
       "    <tr>\n",
       "      <th>min</th>\n",
       "      <td>82.600000</td>\n",
       "      <td>126.100000</td>\n",
       "      <td>14.300000</td>\n",
       "      <td>59.800000</td>\n",
       "      <td>18.000000</td>\n",
       "    </tr>\n",
       "    <tr>\n",
       "      <th>25%</th>\n",
       "      <td>114.900000</td>\n",
       "      <td>180.575000</td>\n",
       "      <td>23.200000</td>\n",
       "      <td>89.700000</td>\n",
       "      <td>39.000000</td>\n",
       "    </tr>\n",
       "    <tr>\n",
       "      <th>50%</th>\n",
       "      <td>131.700000</td>\n",
       "      <td>216.550000</td>\n",
       "      <td>27.550000</td>\n",
       "      <td>109.500000</td>\n",
       "      <td>49.000000</td>\n",
       "    </tr>\n",
       "    <tr>\n",
       "      <th>75%</th>\n",
       "      <td>149.700000</td>\n",
       "      <td>258.750000</td>\n",
       "      <td>31.900000</td>\n",
       "      <td>159.100000</td>\n",
       "      <td>59.000000</td>\n",
       "    </tr>\n",
       "    <tr>\n",
       "      <th>max</th>\n",
       "      <td>179.900000</td>\n",
       "      <td>338.500000</td>\n",
       "      <td>41.700000</td>\n",
       "      <td>191.500000</td>\n",
       "      <td>79.000000</td>\n",
       "    </tr>\n",
       "  </tbody>\n",
       "</table>\n",
       "</div>"
      ],
      "text/plain": [
       "       Blood_Pressure  Cholesterol          BMI      Glucose          Age\n",
       "count     1000.000000  1000.000000  1000.000000  1000.000000  1000.000000\n",
       "mean       132.233900   219.355300    27.540000   123.946600    48.914000\n",
       "std         20.098221    44.079669     5.328226    36.006252    15.747781\n",
       "min         82.600000   126.100000    14.300000    59.800000    18.000000\n",
       "25%        114.900000   180.575000    23.200000    89.700000    39.000000\n",
       "50%        131.700000   216.550000    27.550000   109.500000    49.000000\n",
       "75%        149.700000   258.750000    31.900000   159.100000    59.000000\n",
       "max        179.900000   338.500000    41.700000   191.500000    79.000000"
      ]
     },
     "execution_count": 6,
     "metadata": {},
     "output_type": "execute_result"
    }
   ],
   "source": [
    "dataset.describe()"
   ]
  },
  {
   "cell_type": "code",
   "execution_count": 7,
   "metadata": {
    "colab": {
     "base_uri": "https://localhost:8080/"
    },
    "id": "kn_FkWLkt70N",
    "outputId": "3015cd1e-c128-4a97-e3cf-f8025309f911"
   },
   "outputs": [
    {
     "data": {
      "text/plain": [
       "Class\n",
       "Healthy    511\n",
       "Risky      489\n",
       "dtype: int64"
      ]
     },
     "execution_count": 7,
     "metadata": {},
     "output_type": "execute_result"
    }
   ],
   "source": [
    "dataset.groupby('Class').size()"
   ]
  },
  {
   "cell_type": "markdown",
   "metadata": {
    "id": "jrNTp1o2hnIU"
   },
   "source": [
    "## Data Preprocessing"
   ]
  },
  {
   "cell_type": "code",
   "execution_count": 8,
   "metadata": {
    "id": "XgcHJJNThp_U"
   },
   "outputs": [],
   "source": [
    "X = dataset.iloc[:, :-1].values\n",
    "y = dataset.iloc[:, -1].values"
   ]
  },
  {
   "cell_type": "markdown",
   "metadata": {
    "id": "YvxIPVyMhmKp"
   },
   "source": [
    "## Splitting the dataset into the Training set and Test set"
   ]
  },
  {
   "cell_type": "code",
   "execution_count": 9,
   "metadata": {
    "id": "jMNocD_rR7Af"
   },
   "outputs": [],
   "source": [
    "from sklearn.model_selection import train_test_split\n",
    "X_train, X_test, y_train, y_test = train_test_split(X, y, \n",
    "                                                    test_size=0.30,\n",
    "                                                    random_state = 0)"
   ]
  },
  {
   "cell_type": "markdown",
   "metadata": {
    "id": "kW3c7UYih0hT"
   },
   "source": [
    "## Feature Scaling"
   ]
  },
  {
   "cell_type": "code",
   "execution_count": 10,
   "metadata": {
    "id": "PUSUjXqrSk2C"
   },
   "outputs": [],
   "source": [
    "from sklearn.preprocessing import StandardScaler\n",
    "sc = StandardScaler()\n",
    "sc.fit(X_train)\n",
    "\n",
    "X_train = sc.transform(X_train)\n",
    "X_test = sc.transform(X_test)"
   ]
  },
  {
   "cell_type": "code",
   "execution_count": 11,
   "metadata": {
    "colab": {
     "base_uri": "https://localhost:8080/"
    },
    "id": "zyWd6D_7TY2U",
    "outputId": "1290bc04-aaf6-43a2-fc22-3f1b74237def"
   },
   "outputs": [
    {
     "name": "stdout",
     "output_type": "stream",
     "text": [
      "[[ 1.22380503  1.44819418  0.49482471  0.79808202  1.47853572]\n",
      " [-0.70897801 -1.10592991 -0.46041469 -1.20006673  0.53046701]\n",
      " [ 0.09718279  1.2376148   0.92561895  1.1255564   0.02483037]\n",
      " ...\n",
      " [ 0.62293983  0.75758439  1.43133392  0.99234648  0.53046701]\n",
      " [-0.99438897 -0.8251574   0.08276066 -1.31940061 -0.67042001]\n",
      " [ 0.34754329  1.49121577  0.25133232  1.03119937 -0.03837421]]\n"
     ]
    }
   ],
   "source": [
    "print(X_train)"
   ]
  },
  {
   "cell_type": "code",
   "execution_count": 12,
   "metadata": {
    "colab": {
     "base_uri": "https://localhost:8080/"
    },
    "id": "hb9qEV2pTfD4",
    "outputId": "dd6d8b67-cdc0-471c-c60e-3e543a3ee7a4"
   },
   "outputs": [
    {
     "name": "stdout",
     "output_type": "stream",
     "text": [
      "[[ 0.39761539  1.43687271  0.5135549   1.4197283   0.65687617]\n",
      " [ 0.26742793  0.85042046  1.56244521  1.12278119 -0.54401085]\n",
      " [-0.5036824  -0.87270758 -1.45311445 -0.98637582 -0.67042001]\n",
      " ...\n",
      " [-0.16319212 -0.44475594 -1.07851077 -0.85316591 -1.11285207]\n",
      " [ 1.42409342  1.1968575   1.18784153  1.24211507 -0.29119253]\n",
      " [ 0.43767307  0.8753277   0.04530029  1.02842417  1.60494488]]\n"
     ]
    }
   ],
   "source": [
    "print(X_test)"
   ]
  },
  {
   "cell_type": "markdown",
   "metadata": {
    "id": "bb6jCOCQiAmP"
   },
   "source": [
    "## Training the K-NN model on the Training set"
   ]
  },
  {
   "cell_type": "code",
   "execution_count": 13,
   "metadata": {
    "colab": {
     "base_uri": "https://localhost:8080/"
    },
    "id": "m11EI-0fTnGB",
    "outputId": "b24d2ea7-7aa0-4cb6-b7b9-04b3ad2a8997"
   },
   "outputs": [
    {
     "data": {
      "text/html": [
       "<style>#sk-container-id-1 {\n",
       "  /* Definition of color scheme common for light and dark mode */\n",
       "  --sklearn-color-text: #000;\n",
       "  --sklearn-color-text-muted: #666;\n",
       "  --sklearn-color-line: gray;\n",
       "  /* Definition of color scheme for unfitted estimators */\n",
       "  --sklearn-color-unfitted-level-0: #fff5e6;\n",
       "  --sklearn-color-unfitted-level-1: #f6e4d2;\n",
       "  --sklearn-color-unfitted-level-2: #ffe0b3;\n",
       "  --sklearn-color-unfitted-level-3: chocolate;\n",
       "  /* Definition of color scheme for fitted estimators */\n",
       "  --sklearn-color-fitted-level-0: #f0f8ff;\n",
       "  --sklearn-color-fitted-level-1: #d4ebff;\n",
       "  --sklearn-color-fitted-level-2: #b3dbfd;\n",
       "  --sklearn-color-fitted-level-3: cornflowerblue;\n",
       "\n",
       "  /* Specific color for light theme */\n",
       "  --sklearn-color-text-on-default-background: var(--sg-text-color, var(--theme-code-foreground, var(--jp-content-font-color1, black)));\n",
       "  --sklearn-color-background: var(--sg-background-color, var(--theme-background, var(--jp-layout-color0, white)));\n",
       "  --sklearn-color-border-box: var(--sg-text-color, var(--theme-code-foreground, var(--jp-content-font-color1, black)));\n",
       "  --sklearn-color-icon: #696969;\n",
       "\n",
       "  @media (prefers-color-scheme: dark) {\n",
       "    /* Redefinition of color scheme for dark theme */\n",
       "    --sklearn-color-text-on-default-background: var(--sg-text-color, var(--theme-code-foreground, var(--jp-content-font-color1, white)));\n",
       "    --sklearn-color-background: var(--sg-background-color, var(--theme-background, var(--jp-layout-color0, #111)));\n",
       "    --sklearn-color-border-box: var(--sg-text-color, var(--theme-code-foreground, var(--jp-content-font-color1, white)));\n",
       "    --sklearn-color-icon: #878787;\n",
       "  }\n",
       "}\n",
       "\n",
       "#sk-container-id-1 {\n",
       "  color: var(--sklearn-color-text);\n",
       "}\n",
       "\n",
       "#sk-container-id-1 pre {\n",
       "  padding: 0;\n",
       "}\n",
       "\n",
       "#sk-container-id-1 input.sk-hidden--visually {\n",
       "  border: 0;\n",
       "  clip: rect(1px 1px 1px 1px);\n",
       "  clip: rect(1px, 1px, 1px, 1px);\n",
       "  height: 1px;\n",
       "  margin: -1px;\n",
       "  overflow: hidden;\n",
       "  padding: 0;\n",
       "  position: absolute;\n",
       "  width: 1px;\n",
       "}\n",
       "\n",
       "#sk-container-id-1 div.sk-dashed-wrapped {\n",
       "  border: 1px dashed var(--sklearn-color-line);\n",
       "  margin: 0 0.4em 0.5em 0.4em;\n",
       "  box-sizing: border-box;\n",
       "  padding-bottom: 0.4em;\n",
       "  background-color: var(--sklearn-color-background);\n",
       "}\n",
       "\n",
       "#sk-container-id-1 div.sk-container {\n",
       "  /* jupyter's `normalize.less` sets `[hidden] { display: none; }`\n",
       "     but bootstrap.min.css set `[hidden] { display: none !important; }`\n",
       "     so we also need the `!important` here to be able to override the\n",
       "     default hidden behavior on the sphinx rendered scikit-learn.org.\n",
       "     See: https://github.com/scikit-learn/scikit-learn/issues/21755 */\n",
       "  display: inline-block !important;\n",
       "  position: relative;\n",
       "}\n",
       "\n",
       "#sk-container-id-1 div.sk-text-repr-fallback {\n",
       "  display: none;\n",
       "}\n",
       "\n",
       "div.sk-parallel-item,\n",
       "div.sk-serial,\n",
       "div.sk-item {\n",
       "  /* draw centered vertical line to link estimators */\n",
       "  background-image: linear-gradient(var(--sklearn-color-text-on-default-background), var(--sklearn-color-text-on-default-background));\n",
       "  background-size: 2px 100%;\n",
       "  background-repeat: no-repeat;\n",
       "  background-position: center center;\n",
       "}\n",
       "\n",
       "/* Parallel-specific style estimator block */\n",
       "\n",
       "#sk-container-id-1 div.sk-parallel-item::after {\n",
       "  content: \"\";\n",
       "  width: 100%;\n",
       "  border-bottom: 2px solid var(--sklearn-color-text-on-default-background);\n",
       "  flex-grow: 1;\n",
       "}\n",
       "\n",
       "#sk-container-id-1 div.sk-parallel {\n",
       "  display: flex;\n",
       "  align-items: stretch;\n",
       "  justify-content: center;\n",
       "  background-color: var(--sklearn-color-background);\n",
       "  position: relative;\n",
       "}\n",
       "\n",
       "#sk-container-id-1 div.sk-parallel-item {\n",
       "  display: flex;\n",
       "  flex-direction: column;\n",
       "}\n",
       "\n",
       "#sk-container-id-1 div.sk-parallel-item:first-child::after {\n",
       "  align-self: flex-end;\n",
       "  width: 50%;\n",
       "}\n",
       "\n",
       "#sk-container-id-1 div.sk-parallel-item:last-child::after {\n",
       "  align-self: flex-start;\n",
       "  width: 50%;\n",
       "}\n",
       "\n",
       "#sk-container-id-1 div.sk-parallel-item:only-child::after {\n",
       "  width: 0;\n",
       "}\n",
       "\n",
       "/* Serial-specific style estimator block */\n",
       "\n",
       "#sk-container-id-1 div.sk-serial {\n",
       "  display: flex;\n",
       "  flex-direction: column;\n",
       "  align-items: center;\n",
       "  background-color: var(--sklearn-color-background);\n",
       "  padding-right: 1em;\n",
       "  padding-left: 1em;\n",
       "}\n",
       "\n",
       "\n",
       "/* Toggleable style: style used for estimator/Pipeline/ColumnTransformer box that is\n",
       "clickable and can be expanded/collapsed.\n",
       "- Pipeline and ColumnTransformer use this feature and define the default style\n",
       "- Estimators will overwrite some part of the style using the `sk-estimator` class\n",
       "*/\n",
       "\n",
       "/* Pipeline and ColumnTransformer style (default) */\n",
       "\n",
       "#sk-container-id-1 div.sk-toggleable {\n",
       "  /* Default theme specific background. It is overwritten whether we have a\n",
       "  specific estimator or a Pipeline/ColumnTransformer */\n",
       "  background-color: var(--sklearn-color-background);\n",
       "}\n",
       "\n",
       "/* Toggleable label */\n",
       "#sk-container-id-1 label.sk-toggleable__label {\n",
       "  cursor: pointer;\n",
       "  display: flex;\n",
       "  width: 100%;\n",
       "  margin-bottom: 0;\n",
       "  padding: 0.5em;\n",
       "  box-sizing: border-box;\n",
       "  text-align: center;\n",
       "  align-items: start;\n",
       "  justify-content: space-between;\n",
       "  gap: 0.5em;\n",
       "}\n",
       "\n",
       "#sk-container-id-1 label.sk-toggleable__label .caption {\n",
       "  font-size: 0.6rem;\n",
       "  font-weight: lighter;\n",
       "  color: var(--sklearn-color-text-muted);\n",
       "}\n",
       "\n",
       "#sk-container-id-1 label.sk-toggleable__label-arrow:before {\n",
       "  /* Arrow on the left of the label */\n",
       "  content: \"▸\";\n",
       "  float: left;\n",
       "  margin-right: 0.25em;\n",
       "  color: var(--sklearn-color-icon);\n",
       "}\n",
       "\n",
       "#sk-container-id-1 label.sk-toggleable__label-arrow:hover:before {\n",
       "  color: var(--sklearn-color-text);\n",
       "}\n",
       "\n",
       "/* Toggleable content - dropdown */\n",
       "\n",
       "#sk-container-id-1 div.sk-toggleable__content {\n",
       "  max-height: 0;\n",
       "  max-width: 0;\n",
       "  overflow: hidden;\n",
       "  text-align: left;\n",
       "  /* unfitted */\n",
       "  background-color: var(--sklearn-color-unfitted-level-0);\n",
       "}\n",
       "\n",
       "#sk-container-id-1 div.sk-toggleable__content.fitted {\n",
       "  /* fitted */\n",
       "  background-color: var(--sklearn-color-fitted-level-0);\n",
       "}\n",
       "\n",
       "#sk-container-id-1 div.sk-toggleable__content pre {\n",
       "  margin: 0.2em;\n",
       "  border-radius: 0.25em;\n",
       "  color: var(--sklearn-color-text);\n",
       "  /* unfitted */\n",
       "  background-color: var(--sklearn-color-unfitted-level-0);\n",
       "}\n",
       "\n",
       "#sk-container-id-1 div.sk-toggleable__content.fitted pre {\n",
       "  /* unfitted */\n",
       "  background-color: var(--sklearn-color-fitted-level-0);\n",
       "}\n",
       "\n",
       "#sk-container-id-1 input.sk-toggleable__control:checked~div.sk-toggleable__content {\n",
       "  /* Expand drop-down */\n",
       "  max-height: 200px;\n",
       "  max-width: 100%;\n",
       "  overflow: auto;\n",
       "}\n",
       "\n",
       "#sk-container-id-1 input.sk-toggleable__control:checked~label.sk-toggleable__label-arrow:before {\n",
       "  content: \"▾\";\n",
       "}\n",
       "\n",
       "/* Pipeline/ColumnTransformer-specific style */\n",
       "\n",
       "#sk-container-id-1 div.sk-label input.sk-toggleable__control:checked~label.sk-toggleable__label {\n",
       "  color: var(--sklearn-color-text);\n",
       "  background-color: var(--sklearn-color-unfitted-level-2);\n",
       "}\n",
       "\n",
       "#sk-container-id-1 div.sk-label.fitted input.sk-toggleable__control:checked~label.sk-toggleable__label {\n",
       "  background-color: var(--sklearn-color-fitted-level-2);\n",
       "}\n",
       "\n",
       "/* Estimator-specific style */\n",
       "\n",
       "/* Colorize estimator box */\n",
       "#sk-container-id-1 div.sk-estimator input.sk-toggleable__control:checked~label.sk-toggleable__label {\n",
       "  /* unfitted */\n",
       "  background-color: var(--sklearn-color-unfitted-level-2);\n",
       "}\n",
       "\n",
       "#sk-container-id-1 div.sk-estimator.fitted input.sk-toggleable__control:checked~label.sk-toggleable__label {\n",
       "  /* fitted */\n",
       "  background-color: var(--sklearn-color-fitted-level-2);\n",
       "}\n",
       "\n",
       "#sk-container-id-1 div.sk-label label.sk-toggleable__label,\n",
       "#sk-container-id-1 div.sk-label label {\n",
       "  /* The background is the default theme color */\n",
       "  color: var(--sklearn-color-text-on-default-background);\n",
       "}\n",
       "\n",
       "/* On hover, darken the color of the background */\n",
       "#sk-container-id-1 div.sk-label:hover label.sk-toggleable__label {\n",
       "  color: var(--sklearn-color-text);\n",
       "  background-color: var(--sklearn-color-unfitted-level-2);\n",
       "}\n",
       "\n",
       "/* Label box, darken color on hover, fitted */\n",
       "#sk-container-id-1 div.sk-label.fitted:hover label.sk-toggleable__label.fitted {\n",
       "  color: var(--sklearn-color-text);\n",
       "  background-color: var(--sklearn-color-fitted-level-2);\n",
       "}\n",
       "\n",
       "/* Estimator label */\n",
       "\n",
       "#sk-container-id-1 div.sk-label label {\n",
       "  font-family: monospace;\n",
       "  font-weight: bold;\n",
       "  display: inline-block;\n",
       "  line-height: 1.2em;\n",
       "}\n",
       "\n",
       "#sk-container-id-1 div.sk-label-container {\n",
       "  text-align: center;\n",
       "}\n",
       "\n",
       "/* Estimator-specific */\n",
       "#sk-container-id-1 div.sk-estimator {\n",
       "  font-family: monospace;\n",
       "  border: 1px dotted var(--sklearn-color-border-box);\n",
       "  border-radius: 0.25em;\n",
       "  box-sizing: border-box;\n",
       "  margin-bottom: 0.5em;\n",
       "  /* unfitted */\n",
       "  background-color: var(--sklearn-color-unfitted-level-0);\n",
       "}\n",
       "\n",
       "#sk-container-id-1 div.sk-estimator.fitted {\n",
       "  /* fitted */\n",
       "  background-color: var(--sklearn-color-fitted-level-0);\n",
       "}\n",
       "\n",
       "/* on hover */\n",
       "#sk-container-id-1 div.sk-estimator:hover {\n",
       "  /* unfitted */\n",
       "  background-color: var(--sklearn-color-unfitted-level-2);\n",
       "}\n",
       "\n",
       "#sk-container-id-1 div.sk-estimator.fitted:hover {\n",
       "  /* fitted */\n",
       "  background-color: var(--sklearn-color-fitted-level-2);\n",
       "}\n",
       "\n",
       "/* Specification for estimator info (e.g. \"i\" and \"?\") */\n",
       "\n",
       "/* Common style for \"i\" and \"?\" */\n",
       "\n",
       ".sk-estimator-doc-link,\n",
       "a:link.sk-estimator-doc-link,\n",
       "a:visited.sk-estimator-doc-link {\n",
       "  float: right;\n",
       "  font-size: smaller;\n",
       "  line-height: 1em;\n",
       "  font-family: monospace;\n",
       "  background-color: var(--sklearn-color-background);\n",
       "  border-radius: 1em;\n",
       "  height: 1em;\n",
       "  width: 1em;\n",
       "  text-decoration: none !important;\n",
       "  margin-left: 0.5em;\n",
       "  text-align: center;\n",
       "  /* unfitted */\n",
       "  border: var(--sklearn-color-unfitted-level-1) 1pt solid;\n",
       "  color: var(--sklearn-color-unfitted-level-1);\n",
       "}\n",
       "\n",
       ".sk-estimator-doc-link.fitted,\n",
       "a:link.sk-estimator-doc-link.fitted,\n",
       "a:visited.sk-estimator-doc-link.fitted {\n",
       "  /* fitted */\n",
       "  border: var(--sklearn-color-fitted-level-1) 1pt solid;\n",
       "  color: var(--sklearn-color-fitted-level-1);\n",
       "}\n",
       "\n",
       "/* On hover */\n",
       "div.sk-estimator:hover .sk-estimator-doc-link:hover,\n",
       ".sk-estimator-doc-link:hover,\n",
       "div.sk-label-container:hover .sk-estimator-doc-link:hover,\n",
       ".sk-estimator-doc-link:hover {\n",
       "  /* unfitted */\n",
       "  background-color: var(--sklearn-color-unfitted-level-3);\n",
       "  color: var(--sklearn-color-background);\n",
       "  text-decoration: none;\n",
       "}\n",
       "\n",
       "div.sk-estimator.fitted:hover .sk-estimator-doc-link.fitted:hover,\n",
       ".sk-estimator-doc-link.fitted:hover,\n",
       "div.sk-label-container:hover .sk-estimator-doc-link.fitted:hover,\n",
       ".sk-estimator-doc-link.fitted:hover {\n",
       "  /* fitted */\n",
       "  background-color: var(--sklearn-color-fitted-level-3);\n",
       "  color: var(--sklearn-color-background);\n",
       "  text-decoration: none;\n",
       "}\n",
       "\n",
       "/* Span, style for the box shown on hovering the info icon */\n",
       ".sk-estimator-doc-link span {\n",
       "  display: none;\n",
       "  z-index: 9999;\n",
       "  position: relative;\n",
       "  font-weight: normal;\n",
       "  right: .2ex;\n",
       "  padding: .5ex;\n",
       "  margin: .5ex;\n",
       "  width: min-content;\n",
       "  min-width: 20ex;\n",
       "  max-width: 50ex;\n",
       "  color: var(--sklearn-color-text);\n",
       "  box-shadow: 2pt 2pt 4pt #999;\n",
       "  /* unfitted */\n",
       "  background: var(--sklearn-color-unfitted-level-0);\n",
       "  border: .5pt solid var(--sklearn-color-unfitted-level-3);\n",
       "}\n",
       "\n",
       ".sk-estimator-doc-link.fitted span {\n",
       "  /* fitted */\n",
       "  background: var(--sklearn-color-fitted-level-0);\n",
       "  border: var(--sklearn-color-fitted-level-3);\n",
       "}\n",
       "\n",
       ".sk-estimator-doc-link:hover span {\n",
       "  display: block;\n",
       "}\n",
       "\n",
       "/* \"?\"-specific style due to the `<a>` HTML tag */\n",
       "\n",
       "#sk-container-id-1 a.estimator_doc_link {\n",
       "  float: right;\n",
       "  font-size: 1rem;\n",
       "  line-height: 1em;\n",
       "  font-family: monospace;\n",
       "  background-color: var(--sklearn-color-background);\n",
       "  border-radius: 1rem;\n",
       "  height: 1rem;\n",
       "  width: 1rem;\n",
       "  text-decoration: none;\n",
       "  /* unfitted */\n",
       "  color: var(--sklearn-color-unfitted-level-1);\n",
       "  border: var(--sklearn-color-unfitted-level-1) 1pt solid;\n",
       "}\n",
       "\n",
       "#sk-container-id-1 a.estimator_doc_link.fitted {\n",
       "  /* fitted */\n",
       "  border: var(--sklearn-color-fitted-level-1) 1pt solid;\n",
       "  color: var(--sklearn-color-fitted-level-1);\n",
       "}\n",
       "\n",
       "/* On hover */\n",
       "#sk-container-id-1 a.estimator_doc_link:hover {\n",
       "  /* unfitted */\n",
       "  background-color: var(--sklearn-color-unfitted-level-3);\n",
       "  color: var(--sklearn-color-background);\n",
       "  text-decoration: none;\n",
       "}\n",
       "\n",
       "#sk-container-id-1 a.estimator_doc_link.fitted:hover {\n",
       "  /* fitted */\n",
       "  background-color: var(--sklearn-color-fitted-level-3);\n",
       "}\n",
       "</style><div id=\"sk-container-id-1\" class=\"sk-top-container\"><div class=\"sk-text-repr-fallback\"><pre>KNeighborsClassifier(metric=&#x27;manhattan&#x27;, n_neighbors=7)</pre><b>In a Jupyter environment, please rerun this cell to show the HTML representation or trust the notebook. <br />On GitHub, the HTML representation is unable to render, please try loading this page with nbviewer.org.</b></div><div class=\"sk-container\" hidden><div class=\"sk-item\"><div class=\"sk-estimator fitted sk-toggleable\"><input class=\"sk-toggleable__control sk-hidden--visually\" id=\"sk-estimator-id-1\" type=\"checkbox\" checked><label for=\"sk-estimator-id-1\" class=\"sk-toggleable__label fitted sk-toggleable__label-arrow\"><div><div>KNeighborsClassifier</div></div><div><a class=\"sk-estimator-doc-link fitted\" rel=\"noreferrer\" target=\"_blank\" href=\"https://scikit-learn.org/1.6/modules/generated/sklearn.neighbors.KNeighborsClassifier.html\">?<span>Documentation for KNeighborsClassifier</span></a><span class=\"sk-estimator-doc-link fitted\">i<span>Fitted</span></span></div></label><div class=\"sk-toggleable__content fitted\"><pre>KNeighborsClassifier(metric=&#x27;manhattan&#x27;, n_neighbors=7)</pre></div> </div></div></div></div>"
      ],
      "text/plain": [
       "KNeighborsClassifier(metric='manhattan', n_neighbors=7)"
      ]
     },
     "execution_count": 13,
     "metadata": {},
     "output_type": "execute_result"
    }
   ],
   "source": [
    "from sklearn.neighbors import KNeighborsClassifier\n",
    "classifier = KNeighborsClassifier(n_neighbors=7,p=2,metric='manhattan')\n",
    "classifier.fit(X_train,y_train)"
   ]
  },
  {
   "cell_type": "markdown",
   "metadata": {},
   "source": [
    "## Getting nearest neighbours for each point in training data"
   ]
  },
  {
   "cell_type": "code",
   "execution_count": 14,
   "metadata": {},
   "outputs": [
    {
     "data": {
      "text/plain": [
       "array([[  0, 137, 576, ..., 138, 625, 364],\n",
       "       [  1, 301, 359, ..., 619, 419, 527],\n",
       "       [  2, 609, 620, ..., 633,  13,  68],\n",
       "       ...,\n",
       "       [697, 332, 178, ..., 538, 295, 399],\n",
       "       [698, 675, 157, ..., 283, 568, 459],\n",
       "       [699, 638, 684, ..., 696, 421,  68]])"
      ]
     },
     "execution_count": 14,
     "metadata": {},
     "output_type": "execute_result"
    }
   ],
   "source": [
    "classifier.kneighbors(X=X_train, n_neighbors=7, return_distance=False)"
   ]
  },
  {
   "cell_type": "code",
   "execution_count": 15,
   "metadata": {},
   "outputs": [
    {
     "data": {
      "text/plain": [
       "0       Risky\n",
       "16    Healthy\n",
       "73      Risky\n",
       "55    Healthy\n",
       "54    Healthy\n",
       "60    Healthy\n",
       "29      Risky\n",
       "Name: Class, dtype: object"
      ]
     },
     "execution_count": 15,
     "metadata": {},
     "output_type": "execute_result"
    }
   ],
   "source": [
    "dataset.iloc[[  0,  16,  73,  55,  54,  60,  29],-1]"
   ]
  },
  {
   "cell_type": "code",
   "execution_count": 16,
   "metadata": {},
   "outputs": [
    {
     "data": {
      "text/plain": [
       "array(['Healthy'], dtype=object)"
      ]
     },
     "execution_count": 16,
     "metadata": {},
     "output_type": "execute_result"
    }
   ],
   "source": [
    "classifier.predict(X_train[[1]])"
   ]
  },
  {
   "cell_type": "markdown",
   "metadata": {
    "id": "vKYVQH-l5NpE"
   },
   "source": [
    "## Predicting the Test set results"
   ]
  },
  {
   "cell_type": "code",
   "execution_count": 17,
   "metadata": {
    "colab": {
     "base_uri": "https://localhost:8080/"
    },
    "id": "HK2duLKAUWGD",
    "outputId": "202f0a0d-79d0-441b-f83e-ed7bea36fdb6"
   },
   "outputs": [
    {
     "name": "stdout",
     "output_type": "stream",
     "text": [
      "[['Risky' 'Risky']\n",
      " ['Risky' 'Risky']\n",
      " ['Healthy' 'Healthy']\n",
      " ['Healthy' 'Healthy']\n",
      " ['Risky' 'Risky']\n",
      " ['Healthy' 'Healthy']\n",
      " ['Risky' 'Risky']\n",
      " ['Risky' 'Risky']\n",
      " ['Healthy' 'Healthy']\n",
      " ['Healthy' 'Healthy']\n",
      " ['Healthy' 'Healthy']\n",
      " ['Healthy' 'Healthy']\n",
      " ['Healthy' 'Healthy']\n",
      " ['Healthy' 'Healthy']\n",
      " ['Healthy' 'Healthy']\n",
      " ['Healthy' 'Healthy']\n",
      " ['Risky' 'Risky']\n",
      " ['Healthy' 'Healthy']\n",
      " ['Risky' 'Risky']\n",
      " ['Healthy' 'Healthy']\n",
      " ['Healthy' 'Healthy']\n",
      " ['Healthy' 'Healthy']\n",
      " ['Risky' 'Risky']\n",
      " ['Risky' 'Risky']\n",
      " ['Healthy' 'Healthy']\n",
      " ['Healthy' 'Healthy']\n",
      " ['Healthy' 'Healthy']\n",
      " ['Healthy' 'Healthy']\n",
      " ['Healthy' 'Healthy']\n",
      " ['Risky' 'Risky']\n",
      " ['Risky' 'Risky']\n",
      " ['Risky' 'Risky']\n",
      " ['Risky' 'Risky']\n",
      " ['Healthy' 'Healthy']\n",
      " ['Healthy' 'Healthy']\n",
      " ['Risky' 'Risky']\n",
      " ['Risky' 'Risky']\n",
      " ['Risky' 'Risky']\n",
      " ['Risky' 'Risky']\n",
      " ['Healthy' 'Healthy']\n",
      " ['Healthy' 'Healthy']\n",
      " ['Healthy' 'Healthy']\n",
      " ['Healthy' 'Healthy']\n",
      " ['Healthy' 'Healthy']\n",
      " ['Risky' 'Risky']\n",
      " ['Healthy' 'Healthy']\n",
      " ['Risky' 'Risky']\n",
      " ['Healthy' 'Healthy']\n",
      " ['Healthy' 'Healthy']\n",
      " ['Risky' 'Risky']\n",
      " ['Healthy' 'Healthy']\n",
      " ['Healthy' 'Healthy']\n",
      " ['Healthy' 'Healthy']\n",
      " ['Healthy' 'Healthy']\n",
      " ['Healthy' 'Healthy']\n",
      " ['Risky' 'Risky']\n",
      " ['Risky' 'Risky']\n",
      " ['Healthy' 'Healthy']\n",
      " ['Healthy' 'Healthy']\n",
      " ['Healthy' 'Healthy']\n",
      " ['Risky' 'Risky']\n",
      " ['Risky' 'Risky']\n",
      " ['Risky' 'Risky']\n",
      " ['Risky' 'Risky']\n",
      " ['Healthy' 'Healthy']\n",
      " ['Healthy' 'Healthy']\n",
      " ['Healthy' 'Healthy']\n",
      " ['Healthy' 'Healthy']\n",
      " ['Risky' 'Risky']\n",
      " ['Healthy' 'Healthy']\n",
      " ['Risky' 'Risky']\n",
      " ['Healthy' 'Healthy']\n",
      " ['Risky' 'Risky']\n",
      " ['Healthy' 'Healthy']\n",
      " ['Healthy' 'Healthy']\n",
      " ['Risky' 'Risky']\n",
      " ['Risky' 'Risky']\n",
      " ['Risky' 'Risky']\n",
      " ['Healthy' 'Healthy']\n",
      " ['Risky' 'Risky']\n",
      " ['Healthy' 'Healthy']\n",
      " ['Risky' 'Risky']\n",
      " ['Healthy' 'Healthy']\n",
      " ['Risky' 'Risky']\n",
      " ['Healthy' 'Healthy']\n",
      " ['Risky' 'Risky']\n",
      " ['Healthy' 'Healthy']\n",
      " ['Healthy' 'Healthy']\n",
      " ['Healthy' 'Healthy']\n",
      " ['Risky' 'Risky']\n",
      " ['Healthy' 'Healthy']\n",
      " ['Healthy' 'Healthy']\n",
      " ['Healthy' 'Healthy']\n",
      " ['Risky' 'Risky']\n",
      " ['Healthy' 'Healthy']\n",
      " ['Healthy' 'Healthy']\n",
      " ['Healthy' 'Healthy']\n",
      " ['Healthy' 'Healthy']\n",
      " ['Healthy' 'Healthy']\n",
      " ['Healthy' 'Healthy']\n",
      " ['Healthy' 'Healthy']\n",
      " ['Risky' 'Risky']\n",
      " ['Risky' 'Risky']\n",
      " ['Healthy' 'Healthy']\n",
      " ['Healthy' 'Healthy']\n",
      " ['Healthy' 'Healthy']\n",
      " ['Risky' 'Risky']\n",
      " ['Healthy' 'Healthy']\n",
      " ['Healthy' 'Healthy']\n",
      " ['Risky' 'Risky']\n",
      " ['Healthy' 'Healthy']\n",
      " ['Risky' 'Risky']\n",
      " ['Healthy' 'Healthy']\n",
      " ['Healthy' 'Healthy']\n",
      " ['Healthy' 'Healthy']\n",
      " ['Risky' 'Risky']\n",
      " ['Risky' 'Risky']\n",
      " ['Risky' 'Risky']\n",
      " ['Healthy' 'Healthy']\n",
      " ['Healthy' 'Healthy']\n",
      " ['Risky' 'Risky']\n",
      " ['Healthy' 'Healthy']\n",
      " ['Risky' 'Risky']\n",
      " ['Healthy' 'Healthy']\n",
      " ['Healthy' 'Healthy']\n",
      " ['Risky' 'Risky']\n",
      " ['Healthy' 'Healthy']\n",
      " ['Healthy' 'Healthy']\n",
      " ['Healthy' 'Healthy']\n",
      " ['Risky' 'Risky']\n",
      " ['Healthy' 'Healthy']\n",
      " ['Risky' 'Risky']\n",
      " ['Healthy' 'Healthy']\n",
      " ['Healthy' 'Healthy']\n",
      " ['Healthy' 'Healthy']\n",
      " ['Healthy' 'Healthy']\n",
      " ['Risky' 'Risky']\n",
      " ['Risky' 'Risky']\n",
      " ['Healthy' 'Healthy']\n",
      " ['Healthy' 'Healthy']\n",
      " ['Healthy' 'Healthy']\n",
      " ['Risky' 'Risky']\n",
      " ['Healthy' 'Healthy']\n",
      " ['Healthy' 'Healthy']\n",
      " ['Healthy' 'Healthy']\n",
      " ['Healthy' 'Healthy']\n",
      " ['Healthy' 'Healthy']\n",
      " ['Healthy' 'Healthy']\n",
      " ['Healthy' 'Healthy']\n",
      " ['Healthy' 'Healthy']\n",
      " ['Healthy' 'Healthy']\n",
      " ['Healthy' 'Healthy']\n",
      " ['Risky' 'Risky']\n",
      " ['Risky' 'Risky']\n",
      " ['Healthy' 'Healthy']\n",
      " ['Healthy' 'Healthy']\n",
      " ['Risky' 'Risky']\n",
      " ['Healthy' 'Healthy']\n",
      " ['Healthy' 'Healthy']\n",
      " ['Healthy' 'Healthy']\n",
      " ['Healthy' 'Healthy']\n",
      " ['Healthy' 'Healthy']\n",
      " ['Healthy' 'Healthy']\n",
      " ['Healthy' 'Healthy']\n",
      " ['Healthy' 'Healthy']\n",
      " ['Risky' 'Risky']\n",
      " ['Healthy' 'Healthy']\n",
      " ['Risky' 'Risky']\n",
      " ['Healthy' 'Healthy']\n",
      " ['Risky' 'Risky']\n",
      " ['Risky' 'Risky']\n",
      " ['Risky' 'Risky']\n",
      " ['Risky' 'Risky']\n",
      " ['Risky' 'Risky']\n",
      " ['Risky' 'Risky']\n",
      " ['Risky' 'Risky']\n",
      " ['Healthy' 'Healthy']\n",
      " ['Risky' 'Risky']\n",
      " ['Risky' 'Risky']\n",
      " ['Risky' 'Risky']\n",
      " ['Risky' 'Risky']\n",
      " ['Healthy' 'Healthy']\n",
      " ['Healthy' 'Healthy']\n",
      " ['Healthy' 'Healthy']\n",
      " ['Healthy' 'Healthy']\n",
      " ['Risky' 'Risky']\n",
      " ['Risky' 'Risky']\n",
      " ['Healthy' 'Healthy']\n",
      " ['Risky' 'Risky']\n",
      " ['Risky' 'Risky']\n",
      " ['Healthy' 'Healthy']\n",
      " ['Risky' 'Risky']\n",
      " ['Healthy' 'Healthy']\n",
      " ['Risky' 'Risky']\n",
      " ['Healthy' 'Healthy']\n",
      " ['Healthy' 'Healthy']\n",
      " ['Risky' 'Risky']\n",
      " ['Healthy' 'Healthy']\n",
      " ['Healthy' 'Healthy']\n",
      " ['Risky' 'Risky']\n",
      " ['Risky' 'Risky']\n",
      " ['Risky' 'Risky']\n",
      " ['Risky' 'Risky']\n",
      " ['Risky' 'Risky']\n",
      " ['Risky' 'Risky']\n",
      " ['Risky' 'Risky']\n",
      " ['Risky' 'Risky']\n",
      " ['Healthy' 'Healthy']\n",
      " ['Risky' 'Risky']\n",
      " ['Risky' 'Risky']\n",
      " ['Risky' 'Risky']\n",
      " ['Risky' 'Risky']\n",
      " ['Risky' 'Risky']\n",
      " ['Risky' 'Risky']\n",
      " ['Healthy' 'Healthy']\n",
      " ['Healthy' 'Healthy']\n",
      " ['Healthy' 'Healthy']\n",
      " ['Risky' 'Risky']\n",
      " ['Healthy' 'Healthy']\n",
      " ['Healthy' 'Healthy']\n",
      " ['Healthy' 'Healthy']\n",
      " ['Risky' 'Risky']\n",
      " ['Healthy' 'Healthy']\n",
      " ['Risky' 'Risky']\n",
      " ['Risky' 'Risky']\n",
      " ['Healthy' 'Healthy']\n",
      " ['Risky' 'Risky']\n",
      " ['Risky' 'Risky']\n",
      " ['Risky' 'Risky']\n",
      " ['Healthy' 'Healthy']\n",
      " ['Healthy' 'Healthy']\n",
      " ['Risky' 'Risky']\n",
      " ['Risky' 'Risky']\n",
      " ['Risky' 'Risky']\n",
      " ['Risky' 'Risky']\n",
      " ['Healthy' 'Healthy']\n",
      " ['Risky' 'Risky']\n",
      " ['Healthy' 'Healthy']\n",
      " ['Risky' 'Risky']\n",
      " ['Risky' 'Risky']\n",
      " ['Healthy' 'Healthy']\n",
      " ['Risky' 'Risky']\n",
      " ['Healthy' 'Healthy']\n",
      " ['Healthy' 'Healthy']\n",
      " ['Risky' 'Risky']\n",
      " ['Risky' 'Risky']\n",
      " ['Healthy' 'Healthy']\n",
      " ['Risky' 'Risky']\n",
      " ['Risky' 'Risky']\n",
      " ['Healthy' 'Healthy']\n",
      " ['Risky' 'Risky']\n",
      " ['Healthy' 'Healthy']\n",
      " ['Risky' 'Risky']\n",
      " ['Healthy' 'Healthy']\n",
      " ['Healthy' 'Healthy']\n",
      " ['Risky' 'Risky']\n",
      " ['Healthy' 'Healthy']\n",
      " ['Healthy' 'Healthy']\n",
      " ['Healthy' 'Healthy']\n",
      " ['Risky' 'Risky']\n",
      " ['Healthy' 'Healthy']\n",
      " ['Healthy' 'Healthy']\n",
      " ['Healthy' 'Healthy']\n",
      " ['Healthy' 'Healthy']\n",
      " ['Healthy' 'Healthy']\n",
      " ['Healthy' 'Healthy']\n",
      " ['Risky' 'Risky']\n",
      " ['Healthy' 'Healthy']\n",
      " ['Healthy' 'Healthy']\n",
      " ['Risky' 'Risky']\n",
      " ['Risky' 'Risky']\n",
      " ['Healthy' 'Healthy']\n",
      " ['Risky' 'Risky']\n",
      " ['Risky' 'Risky']\n",
      " ['Risky' 'Risky']\n",
      " ['Risky' 'Risky']\n",
      " ['Healthy' 'Healthy']\n",
      " ['Healthy' 'Healthy']\n",
      " ['Risky' 'Risky']\n",
      " ['Healthy' 'Healthy']\n",
      " ['Healthy' 'Healthy']\n",
      " ['Risky' 'Risky']\n",
      " ['Risky' 'Risky']\n",
      " ['Healthy' 'Healthy']\n",
      " ['Healthy' 'Healthy']\n",
      " ['Healthy' 'Healthy']\n",
      " ['Risky' 'Risky']\n",
      " ['Risky' 'Risky']\n",
      " ['Healthy' 'Healthy']\n",
      " ['Risky' 'Risky']\n",
      " ['Healthy' 'Healthy']\n",
      " ['Healthy' 'Healthy']\n",
      " ['Risky' 'Risky']\n",
      " ['Healthy' 'Healthy']\n",
      " ['Risky' 'Risky']\n",
      " ['Risky' 'Risky']\n",
      " ['Healthy' 'Healthy']\n",
      " ['Healthy' 'Healthy']\n",
      " ['Risky' 'Risky']\n",
      " ['Risky' 'Risky']]\n"
     ]
    }
   ],
   "source": [
    "y_pred = classifier.predict(X_test)\n",
    "print(np.concatenate((y_pred.reshape(len(y_pred),1),y_test.reshape(len(y_test),1)),1))"
   ]
  },
  {
   "cell_type": "markdown",
   "metadata": {
    "id": "h4Hwj34ziWQW"
   },
   "source": [
    "## Evaluating the Algorithm\n",
    "## Making the Confusion Matrix & Predicting Accuracy Score"
   ]
  },
  {
   "cell_type": "code",
   "execution_count": 18,
   "metadata": {
    "colab": {
     "base_uri": "https://localhost:8080/"
    },
    "id": "x9YG3je2VG-n",
    "outputId": "fac848b6-a00c-480c-bd8f-fce4b0ccb970"
   },
   "outputs": [
    {
     "name": "stdout",
     "output_type": "stream",
     "text": [
      "[[168   0]\n",
      " [  0 132]]\n",
      "Accuracy of our model is equal 100.0 %.\n"
     ]
    }
   ],
   "source": [
    "from sklearn.metrics import confusion_matrix, accuracy_score\n",
    "cm = confusion_matrix(y_test,y_pred)\n",
    "print(cm)\n",
    "accuracy = accuracy_score(y_test, y_pred)*100\n",
    "print('Accuracy of our model is equal ' + str(round(accuracy, 2)) + ' %.')"
   ]
  },
  {
   "cell_type": "markdown",
   "metadata": {
    "id": "uDI8s-CjlCRD"
   },
   "source": [
    "## Making Classification Report"
   ]
  },
  {
   "cell_type": "code",
   "execution_count": 19,
   "metadata": {
    "colab": {
     "base_uri": "https://localhost:8080/"
    },
    "id": "-hs5umeSk8Jc",
    "outputId": "0a942c07-0136-4585-9f00-7c0aab192778"
   },
   "outputs": [
    {
     "name": "stdout",
     "output_type": "stream",
     "text": [
      "              precision    recall  f1-score   support\n",
      "\n",
      "     Healthy       1.00      1.00      1.00       168\n",
      "       Risky       1.00      1.00      1.00       132\n",
      "\n",
      "    accuracy                           1.00       300\n",
      "   macro avg       1.00      1.00      1.00       300\n",
      "weighted avg       1.00      1.00      1.00       300\n",
      "\n"
     ]
    }
   ],
   "source": [
    "from sklearn.metrics import classification_report\n",
    "# here f1 score is goodness of fit .\n",
    "print(classification_report(y_test, y_pred))"
   ]
  },
  {
   "cell_type": "markdown",
   "metadata": {
    "id": "6OMC_P0diaoD"
   },
   "source": [
    "## Comparing Error Rate with the K Value\n",
    "## Parameter Tuning Using \n",
    "##cross-validation for parameter tuning:"
   ]
  },
  {
   "cell_type": "code",
   "execution_count": 20,
   "metadata": {
    "id": "_NOjKvZRid5l"
   },
   "outputs": [],
   "source": [
    "from sklearn.model_selection import cross_val_score\n",
    "\n",
    "# creating list of K for KNN\n",
    "k_list = list(range(1,50))\n",
    "\n",
    "# creating list of cv scores\n",
    "cv_scores = []\n",
    "\n",
    "# perform 10-fold cross validation\n",
    "for k in k_list:\n",
    "    knn = KNeighborsClassifier(n_neighbors=k)\n",
    "    scores = cross_val_score(knn, X_train, y_train, cv=10, scoring='accuracy')\n",
    "    cv_scores.append(scores.mean())\n"
   ]
  },
  {
   "cell_type": "markdown",
   "metadata": {
    "id": "bMANKlGulrMr"
   },
   "source": [
    "## plot the error values against K values"
   ]
  },
  {
   "cell_type": "code",
   "execution_count": 21,
   "metadata": {
    "colab": {
     "base_uri": "https://localhost:8080/",
     "height": 650
    },
    "id": "IUrbJkBslsTx",
    "outputId": "791a3bd8-e8ff-47d4-f0bc-7427831248d4"
   },
   "outputs": [
    {
     "data": {
      "text/plain": [
       "<Figure size 640x480 with 0 Axes>"
      ]
     },
     "metadata": {},
     "output_type": "display_data"
    },
    {
     "data": {
      "image/png": "[encoded data removed]",
      "text/plain": [
       "<Figure size 1500x1000 with 1 Axes>"
      ]
     },
     "metadata": {},
     "output_type": "display_data"
    }
   ],
   "source": [
    "import seaborn as sns\n",
    "\n",
    "# changing to misclassification error\n",
    "MSE = [1-x for x in cv_scores]\n",
    "\n",
    "plt.figure()\n",
    "plt.figure(figsize=(15,10))\n",
    "plt.title('The optimal number of neighbors', fontsize=20, fontweight='bold')\n",
    "plt.xlabel('Number of Neighbors K', fontsize=15)\n",
    "plt.ylabel('Misclassification Error', fontsize=15)\n",
    "sns.set_style(\"whitegrid\")\n",
    "plt.plot(k_list, MSE)\n",
    "\n",
    "plt.show()"
   ]
  },
  {
   "cell_type": "markdown",
   "metadata": {
    "id": "woNHr8pr8PuI"
   },
   "source": [
    "## finding best k"
   ]
  },
  {
   "cell_type": "code",
   "execution_count": 22,
   "metadata": {
    "colab": {
     "base_uri": "https://localhost:8080/"
    },
    "id": "ASxVPS108Wik",
    "outputId": "bf5a8f5b-5f81-403d-c776-85fe15c64517"
   },
   "outputs": [
    {
     "name": "stdout",
     "output_type": "stream",
     "text": [
      "The optimal number of neighbors is 1.\n"
     ]
    }
   ],
   "source": [
    "best_k = k_list[MSE.index(min(MSE))]\n",
    "print(\"The optimal number of neighbors is %d.\" % best_k)"
   ]
  },
  {
   "cell_type": "markdown",
   "metadata": {
    "id": "m9RED8JNm5c0"
   },
   "source": [
    "## Visualize Test Result of KNN"
   ]
  },
  {
   "cell_type": "code",
   "execution_count": 23,
   "metadata": {
    "colab": {
     "base_uri": "https://localhost:8080/",
     "height": 343
    },
    "id": "jqZjaOCwm-Yu",
    "outputId": "32c22cd3-4a68-46fa-91d5-9607d8b34d50"
   },
   "outputs": [
    {
     "name": "stderr",
     "output_type": "stream",
     "text": [
      "C:\\Users\\Pavan\\AppData\\Local\\Temp\\ipykernel_8484\\3260090243.py:8: UserWarning: *c* argument looks like a single numeric RGB or RGBA sequence, which should be avoided as value-mapping will have precedence in case its length matches with *x* & *y*.  Please use the *color* keyword-argument or provide a 2D array with a single row if you intend to specify the same RGB or RGBA value for all points.\n",
      "  plt.scatter(x=X[y == cl, 0], y=X[y == cl, 1],c=cmap(idx), marker=markers[idx], label=cl)\n"
     ]
    },
    {
     "data": {
      "image/png": "[encoded data removed]",
      "text/plain": [
       "<Figure size 640x480 with 1 Axes>"
      ]
     },
     "metadata": {},
     "output_type": "display_data"
    }
   ],
   "source": [
    "from matplotlib.colors import ListedColormap\n",
    "\n",
    "markers = ('+', 'x')\n",
    "colors = ('red', 'black')\n",
    "cmap = ListedColormap(colors[:len(np.unique(y_test))])\n",
    "\n",
    "for idx, cl in enumerate(np.unique(y)):\n",
    "    plt.scatter(x=X[y == cl, 0], y=X[y == cl, 1],c=cmap(idx), marker=markers[idx], label=cl)"
   ]
  }
 ],
 "metadata": {
  "colab": {
   "collapsed_sections": [],
   "machine_shape": "hm",
   "name": "ML Lab 5_k_nearest_neighbors.ipynb",
   "provenance": []
  },
  "kernelspec": {
   "display_name": "Python 3 (ipykernel)",
   "language": "python",
   "name": "python3"
  },
  "language_info": {
   "codemirror_mode": {
    "name": "ipython",
    "version": 3
   },
   "file_extension": ".py",
   "mimetype": "text/x-python",
   "name": "python",
   "nbconvert_exporter": "python",
   "pygments_lexer": "ipython3",
   "version": "3.12.6"
  }
 },
 "nbformat": 4,
 "nbformat_minor": 4
}
