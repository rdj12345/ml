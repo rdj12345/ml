{
 "cells": [
  {
   "cell_type": "markdown",
   "metadata": {
    "id": "JKkbeQi2Mzug"
   },
   "source": [
    "# Hierarchical Clustering"
   ]
  },
  {
   "cell_type": "markdown",
   "metadata": {
    "id": "TaQI437hM1Ho"
   },
   "source": [
    "## Importing the libraries"
   ]
  },
  {
   "cell_type": "code",
   "execution_count": 19,
   "metadata": {
    "id": "-o6BPZ1iaEz4"
   },
   "outputs": [],
   "source": [
    "import numpy as np\n",
    "import matplotlib.pyplot as plt\n",
    "import pandas as pd"
   ]
  },
  {
   "cell_type": "markdown",
   "metadata": {
    "id": "gFeTEtDxM7K4"
   },
   "source": [
    "## Importing the dataset"
   ]
  },
  {
   "cell_type": "code",
   "execution_count": 20,
   "metadata": {
    "id": "37znuPTjaaSn"
   },
   "outputs": [],
   "source": [
    "dataset = pd.read_csv(\"Sleep_health_and_lifestyle_dataset.csv\")"
   ]
  },
  {
   "cell_type": "code",
   "execution_count": 21,
   "metadata": {
    "colab": {
     "base_uri": "https://localhost:8080/"
    },
    "id": "Dfq-Dbn36u6K",
    "outputId": "9374cc60-b5a4-4f79-f1c6-defc3f337d4b"
   },
   "outputs": [
    {
     "data": {
      "text/plain": [
       "(374, 13)"
      ]
     },
     "execution_count": 21,
     "metadata": {},
     "output_type": "execute_result"
    }
   ],
   "source": [
    "dataset.shape"
   ]
  },
  {
   "cell_type": "code",
   "execution_count": 22,
   "metadata": {
    "colab": {
     "base_uri": "https://localhost:8080/"
    },
    "id": "WUdVebD06yQx",
    "outputId": "318c84b6-6702-4571-e964-bc8d6c6f9a98"
   },
   "outputs": [
    {
     "name": "stdout",
     "output_type": "stream",
     "text": [
      "<class 'pandas.core.frame.DataFrame'>\n",
      "RangeIndex: 374 entries, 0 to 373\n",
      "Data columns (total 13 columns):\n",
      " #   Column                   Non-Null Count  Dtype  \n",
      "---  ------                   --------------  -----  \n",
      " 0   Person ID                374 non-null    int64  \n",
      " 1   Gender                   374 non-null    object \n",
      " 2   Age                      374 non-null    int64  \n",
      " 3   Occupation               374 non-null    object \n",
      " 4   Sleep Duration           374 non-null    float64\n",
      " 5   Quality of Sleep         374 non-null    int64  \n",
      " 6   Physical Activity Level  374 non-null    int64  \n",
      " 7   Stress Level             374 non-null    int64  \n",
      " 8   BMI Category             374 non-null    object \n",
      " 9   Blood Pressure           374 non-null    object \n",
      " 10  Heart Rate               374 non-null    int64  \n",
      " 11  Daily Steps              374 non-null    int64  \n",
      " 12  Sleep Disorder           155 non-null    object \n",
      "dtypes: float64(1), int64(7), object(5)\n",
      "memory usage: 38.1+ KB\n"
     ]
    }
   ],
   "source": [
    "dataset.info()"
   ]
  },
  {
   "cell_type": "code",
   "execution_count": 23,
   "metadata": {},
   "outputs": [
    {
     "data": {
      "text/html": [
       "<div>\n",
       "<style scoped>\n",
       "    .dataframe tbody tr th:only-of-type {\n",
       "        vertical-align: middle;\n",
       "    }\n",
       "\n",
       "    .dataframe tbody tr th {\n",
       "        vertical-align: top;\n",
       "    }\n",
       "\n",
       "    .dataframe thead th {\n",
       "        text-align: right;\n",
       "    }\n",
       "</style>\n",
       "<table border=\"1\" class=\"dataframe\">\n",
       "  <thead>\n",
       "    <tr style=\"text-align: right;\">\n",
       "      <th></th>\n",
       "      <th>Person ID</th>\n",
       "      <th>Gender</th>\n",
       "      <th>Age</th>\n",
       "      <th>Occupation</th>\n",
       "      <th>Sleep Duration</th>\n",
       "      <th>Quality of Sleep</th>\n",
       "      <th>Physical Activity Level</th>\n",
       "      <th>Stress Level</th>\n",
       "      <th>BMI Category</th>\n",
       "      <th>Blood Pressure</th>\n",
       "      <th>Heart Rate</th>\n",
       "      <th>Daily Steps</th>\n",
       "      <th>Sleep Disorder</th>\n",
       "    </tr>\n",
       "  </thead>\n",
       "  <tbody>\n",
       "    <tr>\n",
       "      <th>0</th>\n",
       "      <td>1</td>\n",
       "      <td>Male</td>\n",
       "      <td>27</td>\n",
       "      <td>Software Engineer</td>\n",
       "      <td>6.1</td>\n",
       "      <td>6</td>\n",
       "      <td>42</td>\n",
       "      <td>6</td>\n",
       "      <td>Overweight</td>\n",
       "      <td>126/83</td>\n",
       "      <td>77</td>\n",
       "      <td>4200</td>\n",
       "      <td>NaN</td>\n",
       "    </tr>\n",
       "    <tr>\n",
       "      <th>1</th>\n",
       "      <td>2</td>\n",
       "      <td>Male</td>\n",
       "      <td>28</td>\n",
       "      <td>Doctor</td>\n",
       "      <td>6.2</td>\n",
       "      <td>6</td>\n",
       "      <td>60</td>\n",
       "      <td>8</td>\n",
       "      <td>Normal</td>\n",
       "      <td>125/80</td>\n",
       "      <td>75</td>\n",
       "      <td>10000</td>\n",
       "      <td>NaN</td>\n",
       "    </tr>\n",
       "    <tr>\n",
       "      <th>2</th>\n",
       "      <td>3</td>\n",
       "      <td>Male</td>\n",
       "      <td>28</td>\n",
       "      <td>Doctor</td>\n",
       "      <td>6.2</td>\n",
       "      <td>6</td>\n",
       "      <td>60</td>\n",
       "      <td>8</td>\n",
       "      <td>Normal</td>\n",
       "      <td>125/80</td>\n",
       "      <td>75</td>\n",
       "      <td>10000</td>\n",
       "      <td>NaN</td>\n",
       "    </tr>\n",
       "    <tr>\n",
       "      <th>3</th>\n",
       "      <td>4</td>\n",
       "      <td>Male</td>\n",
       "      <td>28</td>\n",
       "      <td>Sales Representative</td>\n",
       "      <td>5.9</td>\n",
       "      <td>4</td>\n",
       "      <td>30</td>\n",
       "      <td>8</td>\n",
       "      <td>Obese</td>\n",
       "      <td>140/90</td>\n",
       "      <td>85</td>\n",
       "      <td>3000</td>\n",
       "      <td>Sleep Apnea</td>\n",
       "    </tr>\n",
       "    <tr>\n",
       "      <th>4</th>\n",
       "      <td>5</td>\n",
       "      <td>Male</td>\n",
       "      <td>28</td>\n",
       "      <td>Sales Representative</td>\n",
       "      <td>5.9</td>\n",
       "      <td>4</td>\n",
       "      <td>30</td>\n",
       "      <td>8</td>\n",
       "      <td>Obese</td>\n",
       "      <td>140/90</td>\n",
       "      <td>85</td>\n",
       "      <td>3000</td>\n",
       "      <td>Sleep Apnea</td>\n",
       "    </tr>\n",
       "  </tbody>\n",
       "</table>\n",
       "</div>"
      ],
      "text/plain": [
       "   Person ID Gender  Age            Occupation  Sleep Duration  \\\n",
       "0          1   Male   27     Software Engineer             6.1   \n",
       "1          2   Male   28                Doctor             6.2   \n",
       "2          3   Male   28                Doctor             6.2   \n",
       "3          4   Male   28  Sales Representative             5.9   \n",
       "4          5   Male   28  Sales Representative             5.9   \n",
       "\n",
       "   Quality of Sleep  Physical Activity Level  Stress Level BMI Category  \\\n",
       "0                 6                       42             6   Overweight   \n",
       "1                 6                       60             8       Normal   \n",
       "2                 6                       60             8       Normal   \n",
       "3                 4                       30             8        Obese   \n",
       "4                 4                       30             8        Obese   \n",
       "\n",
       "  Blood Pressure  Heart Rate  Daily Steps Sleep Disorder  \n",
       "0         126/83          77         4200            NaN  \n",
       "1         125/80          75        10000            NaN  \n",
       "2         125/80          75        10000            NaN  \n",
       "3         140/90          85         3000    Sleep Apnea  \n",
       "4         140/90          85         3000    Sleep Apnea  "
      ]
     },
     "execution_count": 23,
     "metadata": {},
     "output_type": "execute_result"
    }
   ],
   "source": [
    "dataset.head()"
   ]
  },
  {
   "cell_type": "code",
   "execution_count": 85,
   "metadata": {},
   "outputs": [],
   "source": [
    "X = dataset.iloc[:,[5,7]].values"
   ]
  },
  {
   "cell_type": "code",
   "execution_count": 86,
   "metadata": {},
   "outputs": [
    {
     "name": "stdout",
     "output_type": "stream",
     "text": [
      "[[6 6]\n",
      " [6 8]\n",
      " [6 8]\n",
      " [4 8]\n",
      " [4 8]\n",
      " [4 8]\n",
      " [6 7]\n",
      " [7 6]\n",
      " [7 6]\n",
      " [7 6]\n",
      " [6 8]\n",
      " [7 6]\n",
      " [6 8]\n",
      " [6 8]\n",
      " [6 8]\n",
      " [6 8]\n",
      " [5 7]\n",
      " [6 8]\n",
      " [5 7]\n",
      " [7 6]\n",
      " [7 6]\n",
      " [7 6]\n",
      " [7 6]\n",
      " [7 6]\n",
      " [7 6]\n",
      " [7 6]\n",
      " [7 6]\n",
      " [7 6]\n",
      " [7 6]\n",
      " [7 6]\n",
      " [5 7]\n",
      " [5 7]\n",
      " [8 4]\n",
      " [6 8]\n",
      " [7 6]\n",
      " [6 8]\n",
      " [6 8]\n",
      " [7 6]\n",
      " [7 6]\n",
      " [7 6]\n",
      " [7 6]\n",
      " [7 6]\n",
      " [7 6]\n",
      " [7 6]\n",
      " [7 6]\n",
      " [7 6]\n",
      " [7 6]\n",
      " [7 6]\n",
      " [7 6]\n",
      " [7 6]\n",
      " [8 3]\n",
      " [8 3]\n",
      " [6 8]\n",
      " [7 6]\n",
      " [6 8]\n",
      " [6 8]\n",
      " [7 6]\n",
      " [6 8]\n",
      " [6 8]\n",
      " [7 6]\n",
      " [6 8]\n",
      " [6 8]\n",
      " [6 8]\n",
      " [6 8]\n",
      " [6 8]\n",
      " [6 8]\n",
      " [8 6]\n",
      " [6 8]\n",
      " [6 6]\n",
      " [6 6]\n",
      " [6 8]\n",
      " [6 8]\n",
      " [6 8]\n",
      " [6 8]\n",
      " [6 8]\n",
      " [6 8]\n",
      " [6 8]\n",
      " [6 8]\n",
      " [6 8]\n",
      " [6 8]\n",
      " [4 8]\n",
      " [4 8]\n",
      " [7 5]\n",
      " [7 5]\n",
      " [8 5]\n",
      " [8 4]\n",
      " [8 4]\n",
      " [8 4]\n",
      " [8 4]\n",
      " [8 4]\n",
      " [8 4]\n",
      " [8 4]\n",
      " [8 5]\n",
      " [7 5]\n",
      " [8 4]\n",
      " [8 4]\n",
      " [8 4]\n",
      " [8 4]\n",
      " [8 4]\n",
      " [8 4]\n",
      " [8 4]\n",
      " [8 4]\n",
      " [8 4]\n",
      " [5 7]\n",
      " [8 4]\n",
      " [5 7]\n",
      " [6 6]\n",
      " [8 4]\n",
      " [8 4]\n",
      " [8 5]\n",
      " [8 4]\n",
      " [8 5]\n",
      " [8 4]\n",
      " [8 5]\n",
      " [8 4]\n",
      " [8 4]\n",
      " [8 4]\n",
      " [8 4]\n",
      " [8 4]\n",
      " [8 4]\n",
      " [8 4]\n",
      " [8 4]\n",
      " [8 4]\n",
      " [8 4]\n",
      " [8 4]\n",
      " [8 4]\n",
      " [8 5]\n",
      " [8 4]\n",
      " [8 5]\n",
      " [8 5]\n",
      " [8 4]\n",
      " [8 5]\n",
      " [8 5]\n",
      " [8 4]\n",
      " [8 5]\n",
      " [8 5]\n",
      " [8 4]\n",
      " [8 5]\n",
      " [8 4]\n",
      " [8 5]\n",
      " [8 4]\n",
      " [8 5]\n",
      " [8 4]\n",
      " [8 4]\n",
      " [8 5]\n",
      " [7 5]\n",
      " [8 5]\n",
      " [5 7]\n",
      " [7 6]\n",
      " [9 3]\n",
      " [9 3]\n",
      " [8 5]\n",
      " [8 5]\n",
      " [8 5]\n",
      " [8 5]\n",
      " [8 5]\n",
      " [8 5]\n",
      " [8 5]\n",
      " [8 5]\n",
      " [8 5]\n",
      " [8 5]\n",
      " [8 6]\n",
      " [8 6]\n",
      " [8 5]\n",
      " [8 5]\n",
      " [8 5]\n",
      " [8 6]\n",
      " [7 6]\n",
      " [7 6]\n",
      " [8 5]\n",
      " [8 5]\n",
      " [8 5]\n",
      " [8 5]\n",
      " [8 5]\n",
      " [8 5]\n",
      " [8 5]\n",
      " [8 5]\n",
      " [6 7]\n",
      " [8 5]\n",
      " [8 5]\n",
      " [8 5]\n",
      " [8 5]\n",
      " [8 5]\n",
      " [8 5]\n",
      " [6 7]\n",
      " [6 7]\n",
      " [7 4]\n",
      " [6 7]\n",
      " [7 4]\n",
      " [6 7]\n",
      " [7 4]\n",
      " [6 7]\n",
      " [6 7]\n",
      " [6 7]\n",
      " [6 7]\n",
      " [6 7]\n",
      " [6 7]\n",
      " [6 7]\n",
      " [6 7]\n",
      " [6 7]\n",
      " [6 7]\n",
      " [8 5]\n",
      " [8 5]\n",
      " [6 7]\n",
      " [8 4]\n",
      " [8 5]\n",
      " [8 5]\n",
      " [8 5]\n",
      " [8 5]\n",
      " [8 5]\n",
      " [8 5]\n",
      " [8 5]\n",
      " [8 5]\n",
      " [8 5]\n",
      " [8 5]\n",
      " [8 5]\n",
      " [8 5]\n",
      " [8 5]\n",
      " [8 5]\n",
      " [6 7]\n",
      " [7 4]\n",
      " [6 7]\n",
      " [6 7]\n",
      " [6 7]\n",
      " [7 4]\n",
      " [6 7]\n",
      " [7 4]\n",
      " [6 7]\n",
      " [7 4]\n",
      " [6 7]\n",
      " [7 4]\n",
      " [6 7]\n",
      " [7 4]\n",
      " [6 7]\n",
      " [7 4]\n",
      " [6 7]\n",
      " [6 7]\n",
      " [7 4]\n",
      " [6 7]\n",
      " [6 7]\n",
      " [7 4]\n",
      " [6 7]\n",
      " [6 7]\n",
      " [7 4]\n",
      " [6 7]\n",
      " [7 4]\n",
      " [6 7]\n",
      " [7 7]\n",
      " [6 7]\n",
      " [6 7]\n",
      " [7 6]\n",
      " [7 6]\n",
      " [7 4]\n",
      " [7 4]\n",
      " [7 4]\n",
      " [7 4]\n",
      " [7 4]\n",
      " [7 4]\n",
      " [7 4]\n",
      " [7 4]\n",
      " [7 4]\n",
      " [7 4]\n",
      " [7 4]\n",
      " [7 5]\n",
      " [7 5]\n",
      " [6 8]\n",
      " [7 5]\n",
      " [6 8]\n",
      " [6 8]\n",
      " [6 8]\n",
      " [6 8]\n",
      " [6 8]\n",
      " [6 8]\n",
      " [6 8]\n",
      " [6 8]\n",
      " [6 8]\n",
      " [9 3]\n",
      " [9 3]\n",
      " [6 8]\n",
      " [9 3]\n",
      " [6 8]\n",
      " [6 8]\n",
      " [6 8]\n",
      " [6 8]\n",
      " [6 8]\n",
      " [6 8]\n",
      " [6 8]\n",
      " [6 8]\n",
      " [6 8]\n",
      " [6 8]\n",
      " [6 8]\n",
      " [6 8]\n",
      " [6 8]\n",
      " [6 8]\n",
      " [6 8]\n",
      " [6 8]\n",
      " [6 8]\n",
      " [6 8]\n",
      " [9 3]\n",
      " [9 3]\n",
      " [9 3]\n",
      " [9 3]\n",
      " [7 6]\n",
      " [6 8]\n",
      " [6 8]\n",
      " [6 8]\n",
      " [7 7]\n",
      " [7 7]\n",
      " [7 7]\n",
      " [7 7]\n",
      " [7 7]\n",
      " [7 7]\n",
      " [9 3]\n",
      " [9 3]\n",
      " [9 3]\n",
      " [9 3]\n",
      " [9 3]\n",
      " [9 3]\n",
      " [9 3]\n",
      " [9 3]\n",
      " [9 3]\n",
      " [9 3]\n",
      " [9 3]\n",
      " [9 3]\n",
      " [9 3]\n",
      " [9 3]\n",
      " [9 3]\n",
      " [9 3]\n",
      " [9 3]\n",
      " [9 3]\n",
      " [9 3]\n",
      " [9 3]\n",
      " [9 3]\n",
      " [9 3]\n",
      " [9 3]\n",
      " [9 3]\n",
      " [9 3]\n",
      " [9 3]\n",
      " [9 3]\n",
      " [9 4]\n",
      " [9 4]\n",
      " [9 3]\n",
      " [9 3]\n",
      " [9 3]\n",
      " [9 3]\n",
      " [9 3]\n",
      " [9 3]\n",
      " [9 3]\n",
      " [9 3]\n",
      " [9 3]\n",
      " [9 3]\n",
      " [9 3]\n",
      " [9 3]\n",
      " [9 3]\n",
      " [9 3]\n",
      " [9 3]\n",
      " [9 3]\n",
      " [9 3]\n",
      " [9 3]\n",
      " [9 3]\n",
      " [9 3]\n",
      " [9 3]\n",
      " [9 3]\n",
      " [9 3]\n",
      " [9 3]\n",
      " [9 3]\n",
      " [9 3]\n",
      " [9 3]\n",
      " [9 3]\n",
      " [9 3]\n",
      " [9 3]\n",
      " [9 3]\n",
      " [9 3]\n",
      " [9 3]]\n"
     ]
    }
   ],
   "source": [
    "print(X)"
   ]
  },
  {
   "cell_type": "markdown",
   "metadata": {
    "id": "czYMlG7cNBsu"
   },
   "source": [
    "### Using the dendrogram to find the optimal number of clusters"
   ]
  },
  {
   "cell_type": "code",
   "execution_count": 87,
   "metadata": {
    "colab": {
     "base_uri": "https://localhost:8080/",
     "height": 312
    },
    "id": "KUADuL4Ya1sM",
    "outputId": "c9603b23-25b8-46b1-e363-8b858af121ac"
   },
   "outputs": [
    {
     "data": {
      "text/plain": [
       "Text(0, 0.5, 'Euclidian Distance')"
      ]
     },
     "execution_count": 87,
     "metadata": {},
     "output_type": "execute_result"
    },
    {
     "data": {
      "image/png": "[encoded data removed]",
      "text/plain": [
       "<Figure size 640x480 with 1 Axes>"
      ]
     },
     "metadata": {},
     "output_type": "display_data"
    }
   ],
   "source": [
    "import scipy.cluster.hierarchy as sch\n",
    "dendrogram = sch.dendrogram(sch.linkage(X,method = 'ward'))\n",
    "plt.title(\"Dendrogram\")\n",
    "plt.xlabel(\"Person\")\n",
    "plt.ylabel(\"Euclidian Distance\")"
   ]
  },
  {
   "cell_type": "markdown",
   "metadata": {
    "id": "KDbXbo9INLF6"
   },
   "source": [
    "## Training the Hierarchical Clustering model on the dataset"
   ]
  },
  {
   "cell_type": "code",
   "execution_count": 88,
   "metadata": {
    "id": "ax1O2sJbdGvb"
   },
   "outputs": [],
   "source": [
    "from sklearn.cluster import AgglomerativeClustering\n",
    "hc = AgglomerativeClustering (n_clusters = 2, linkage = 'ward')\n",
    "y_hc = hc.fit_predict(X)"
   ]
  },
  {
   "cell_type": "code",
   "execution_count": 89,
   "metadata": {
    "colab": {
     "base_uri": "https://localhost:8080/"
    },
    "id": "-9TZDH_Yf33_",
    "outputId": "a61abf30-b6aa-4c50-a4c4-bfffe5d830b7",
    "scrolled": true
   },
   "outputs": [
    {
     "name": "stdout",
     "output_type": "stream",
     "text": [
      "[1 1 1 1 1 1 1 0 0 0 1 0 1 1 1 1 1 1 1 0 0 0 0 0 0 0 0 0 0 0 1 1 0 1 0 1 1\n",
      " 0 0 0 0 0 0 0 0 0 0 0 0 0 0 0 1 0 1 1 0 1 1 0 1 1 1 1 1 1 0 1 1 1 1 1 1 1\n",
      " 1 1 1 1 1 1 1 1 0 0 0 0 0 0 0 0 0 0 0 0 0 0 0 0 0 0 0 0 0 1 0 1 1 0 0 0 0\n",
      " 0 0 0 0 0 0 0 0 0 0 0 0 0 0 0 0 0 0 0 0 0 0 0 0 0 0 0 0 0 0 0 0 0 0 0 0 1\n",
      " 0 0 0 0 0 0 0 0 0 0 0 0 0 0 0 0 0 0 0 0 0 0 0 0 0 0 0 0 0 1 0 0 0 0 0 0 1\n",
      " 1 0 1 0 1 0 1 1 1 1 1 1 1 1 1 1 0 0 1 0 0 0 0 0 0 0 0 0 0 0 0 0 0 0 1 0 1\n",
      " 1 1 0 1 0 1 0 1 0 1 0 1 0 1 1 0 1 1 0 1 1 0 1 0 1 1 1 1 0 0 0 0 0 0 0 0 0\n",
      " 0 0 0 0 0 0 1 0 1 1 1 1 1 1 1 1 1 0 0 1 0 1 1 1 1 1 1 1 1 1 1 1 1 1 1 1 1\n",
      " 1 1 0 0 0 0 0 1 1 1 1 1 1 1 1 1 0 0 0 0 0 0 0 0 0 0 0 0 0 0 0 0 0 0 0 0 0\n",
      " 0 0 0 0 0 0 0 0 0 0 0 0 0 0 0 0 0 0 0 0 0 0 0 0 0 0 0 0 0 0 0 0 0 0 0 0 0\n",
      " 0 0 0 0]\n"
     ]
    }
   ],
   "source": [
    "print(y_hc)"
   ]
  },
  {
   "cell_type": "markdown",
   "metadata": {
    "id": "X-SYG7l9NVmU"
   },
   "source": [
    "## Visualising the clusters"
   ]
  },
  {
   "cell_type": "code",
   "execution_count": 91,
   "metadata": {
    "colab": {
     "base_uri": "https://localhost:8080/",
     "height": 295
    },
    "id": "-91tDJrnNY2p",
    "outputId": "06563372-3c21-4209-9456-0cfd231b6708"
   },
   "outputs": [
    {
     "data": {
      "image/png": "[encoded data removed]",
      "text/plain": [
       "<Figure size 640x480 with 1 Axes>"
      ]
     },
     "metadata": {},
     "output_type": "display_data"
    }
   ],
   "source": [
    "plt.scatter(X[y_hc == 0, 1], X[y_hc == 0, 0], s = 100, c = 'red', label = 'Cluster 1')\n",
    "plt.scatter(X[y_hc == 1, 1], X[y_hc == 1, 0], s = 100, c = 'blue', label = 'Cluster 2')\n",
    "# plt.scatter(X[y_hc == 2, 0], X[y_hc == 2, 1], s = 100, c = 'lightgreen', label = 'Cluster 3')\n",
    "# plt.scatter(X[y_hc == 3, 0], X[y_hc == 3, 1], s = 100, c = 'black', label = 'Cluster 4')\n",
    "# plt.scatter(X[y_hc == 4, 0], X[y_hc == 4, 1], s = 100, c = 'magenta', label = 'Cluster 5')\n",
    "plt.title('Stress of People')\n",
    "plt.xlabel('Qaulity ofsleep')\n",
    "plt.ylabel('stress level')\n",
    "plt.legend()\n",
    "plt.show()"
   ]
  },
  {
   "cell_type": "markdown",
   "metadata": {},
   "source": [
    "## Internal Evaluation of Cluster\n",
    "### DB Score (lower is better)"
   ]
  },
  {
   "cell_type": "code",
   "execution_count": 92,
   "metadata": {},
   "outputs": [
    {
     "data": {
      "text/plain": [
       "np.float64(0.4751359941369857)"
      ]
     },
     "execution_count": 92,
     "metadata": {},
     "output_type": "execute_result"
    }
   ],
   "source": [
    "from sklearn.metrics import davies_bouldin_score\n",
    "davies_bouldin_score(X,y_hc)"
   ]
  },
  {
   "cell_type": "code",
   "execution_count": null,
   "metadata": {},
   "outputs": [],
   "source": []
  }
 ],
 "metadata": {
  "colab": {
   "collapsed_sections": [],
   "name": "ML_Lab _8_hierarchical_clustering.ipynb",
   "provenance": []
  },
  "kernelspec": {
   "display_name": "Python 3 (ipykernel)",
   "language": "python",
   "name": "python3"
  },
  "language_info": {
   "codemirror_mode": {
    "name": "ipython",
    "version": 3
   },
   "file_extension": ".py",
   "mimetype": "text/x-python",
   "name": "python",
   "nbconvert_exporter": "python",
   "pygments_lexer": "ipython3",
   "version": "3.12.6"
  }
 },
 "nbformat": 4,
 "nbformat_minor": 4
}
